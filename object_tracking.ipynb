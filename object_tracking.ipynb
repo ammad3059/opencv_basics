{
 "cells": [
  {
   "cell_type": "code",
   "execution_count": 1,
   "metadata": {},
   "outputs": [],
   "source": [
    "import cv2\n",
    "import numpy as np"
   ]
  },
  {
   "cell_type": "code",
   "execution_count": null,
   "metadata": {},
   "outputs": [],
   "source": [
    "## lucas-kanade optical flow\n",
    "cap = cv2.VideoCapture(0)\n",
    "ret,frame = cap.read()\n",
    "prevImg = cv2.cvtColor(frame,cv2.COLOR_BGR2GRAY)\n",
    "### Shi-Tomashi corner\n",
    "prevPoints = cv2.goodFeaturesToTrack(prevImg,20, 0.3, 7, 7)\n",
    "### parameters for lucas kanade optical flow\n",
    "winSize = (100,100)\n",
    "maxLevel = 2\n",
    "criteria = (cv2.TERM_CRITERIA_EPS | cv2.TERM_CRITERIA_COUNT, 10, 0.03)\n",
    "## mask for drawing purpose\n",
    "mask = np.zeros_like(frame)\n",
    "while True:\n",
    "    ret,frame = cap.read()\n",
    "    if ret == True:\n",
    "        nextImg = cv2.cvtColor(frame,cv2.COLOR_BGR2GRAY)\n",
    "        nextPts,status,err = cv2.calcOpticalFlowPyrLK(prevImg,nextImg,prevPoints,None,winSize=winSize,maxLevel=maxLevel,\n",
    "                                                     criteria=criteria)\n",
    "        good_prev = prevPoints[status==1]\n",
    "        good_new = nextPts[status==1]\n",
    "        \n",
    "        for i,(new,prev) in enumerate(zip(good_new,good_prev)):\n",
    "            x_new,y_new = new.ravel()\n",
    "            x_prev,y_prev = prev.ravel()\n",
    "            cv2.line(mask,(x_new,y_new),(x_prev,y_prev),(0,255,0),3)\n",
    "            cv2.circle(frame,(x_new,y_new),5,(255,0,0),-1)\n",
    "        \n",
    "        image = cv2.add(mask,frame)\n",
    "        cv2.imshow('Object Tracking with Lucas_kanade optical flow',image)\n",
    "        \n",
    "        prevImg = nextImg.copy()\n",
    "        prevPoints = good_new.reshape(-1,1,2)\n",
    "        if cv2.waitKey(3)&0xFF==27:\n",
    "            break\n",
    "    else:\n",
    "        print('capturing Failed!!!')\n",
    "        break\n",
    "cap.release()\n",
    "cv2.destroyAllWindows()"
   ]
  },
  {
   "cell_type": "code",
   "execution_count": 2,
   "metadata": {},
   "outputs": [],
   "source": [
    "## dense optical flow\n",
    "cap = cv2.VideoCapture(0)\n",
    "ret,frame = cap.read()\n",
    "prevImg = cv2.cvtColor(frame,cv2.COLOR_BGR2GRAY)\n",
    "hsv_mask = np.zeros_like(frame)\n",
    "hsv_mask[:,:,1]=255\n",
    "while True:\n",
    "    ret,frame2 = cap.read()\n",
    "    nextImg = cv2.cvtColor(frame2,cv2.COLOR_BGR2GRAY)\n",
    "    flow = cv2.calcOpticalFlowFarneback(prevImg,nextImg, None, 0.5, 3, 15, 3, 5, 1.2, 0)\n",
    "    mag, ang = cv2.cartToPolar(flow[:,:,0], flow[:,:,1],angleInDegrees=True)\n",
    "    hsv_mask[:,:,0] = ang/2\n",
    "    hsv_mask[:,:,2] = cv2.normalize(mag,None,0,255,cv2.NORM_MINMAX)\n",
    "    tracking = cv2.cvtColor(hsv_mask,cv2.COLOR_HSV2BGR)\n",
    "    cv2.imshow('Dense Optical Flow',tracking)\n",
    "    prevImg = nextImg.copy()\n",
    "    k = cv2.waitKey(10) & 0xFF\n",
    "    if k == 27:\n",
    "        break\n",
    "    \n",
    "cap.release()\n",
    "cv2.destroyAllWindows()\n"
   ]
  },
  {
   "cell_type": "code",
   "execution_count": null,
   "metadata": {},
   "outputs": [],
   "source": []
  }
 ],
 "metadata": {
  "kernelspec": {
   "display_name": "Python 3",
   "language": "python",
   "name": "python3"
  },
  "language_info": {
   "codemirror_mode": {
    "name": "ipython",
    "version": 3
   },
   "file_extension": ".py",
   "mimetype": "text/x-python",
   "name": "python",
   "nbconvert_exporter": "python",
   "pygments_lexer": "ipython3",
   "version": "3.6.6"
  }
 },
 "nbformat": 4,
 "nbformat_minor": 2
}
