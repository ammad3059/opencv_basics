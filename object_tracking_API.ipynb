{
 "cells": [
  {
   "cell_type": "code",
   "execution_count": 1,
   "metadata": {},
   "outputs": [],
   "source": [
    "import cv2"
   ]
  },
  {
   "cell_type": "code",
   "execution_count": 2,
   "metadata": {},
   "outputs": [
    {
     "name": "stdout",
     "output_type": "stream",
     "text": [
      "Enter 1 for MIL tracker:\n",
      "Enter 2 for KCF tracker:\n"
     ]
    },
    {
     "name": "stdin",
     "output_type": "stream",
     "text": [
      "Enter your choice for object tracking: 2\n"
     ]
    }
   ],
   "source": [
    "print('Enter 1 for MIL tracker:')\n",
    "print('Enter 2 for KCF tracker:')\n",
    "choice = int(input('Enter your choice for object tracking:'))\n",
    "if choice == 1:\n",
    "    tracker = cv2.TrackerMIL_create()\n",
    "elif choice == 2:\n",
    "    tracker = cv2.TrackerKCF_create()"
   ]
  },
  {
   "cell_type": "code",
   "execution_count": 3,
   "metadata": {},
   "outputs": [],
   "source": [
    "tracker_name = str(tracker).split(' ')[0][1:]"
   ]
  },
  {
   "cell_type": "code",
   "execution_count": 4,
   "metadata": {},
   "outputs": [],
   "source": [
    "capture = cv2.VideoCapture(0)\n",
    "ret,frame = capture.read()\n",
    "roi = cv2.selectROI(frame,False)\n",
    "val = tracker.init(frame,roi)\n",
    "while True:\n",
    "    ret,frame = capture.read()\n",
    "    retval,roi = tracker.update(frame)\n",
    "    x,y,w,h = tuple(map(int,roi))\n",
    "    if retval:\n",
    "        p1 = (x,y)\n",
    "        p2 = (x+w,y+h)\n",
    "        cv2.rectangle(frame,p1,p2,(255,0,0),4)\n",
    "    else:\n",
    "        cv2.putText(frame,'FAILED TO TRACK',(100,200),cv2.FONT_HERSHEY_COMPLEX,2,(0,0,255),3)\n",
    "    cv2.putText(frame,tracker_name,(50,300),cv2.FONT_HERSHEY_COMPLEX,2,(0,0,255),3)\n",
    "    cv2.imshow(tracker_name,frame)\n",
    "    if cv2.waitKey(5)&0xFF==27:\n",
    "        break\n",
    "capture.release()\n",
    "cv2.destroyAllWindows()"
   ]
  },
  {
   "cell_type": "code",
   "execution_count": null,
   "metadata": {},
   "outputs": [],
   "source": []
  }
 ],
 "metadata": {
  "kernelspec": {
   "display_name": "Python 3",
   "language": "python",
   "name": "python3"
  },
  "language_info": {
   "codemirror_mode": {
    "name": "ipython",
    "version": 3
   },
   "file_extension": ".py",
   "mimetype": "text/x-python",
   "name": "python",
   "nbconvert_exporter": "python",
   "pygments_lexer": "ipython3",
   "version": "3.6.6"
  }
 },
 "nbformat": 4,
 "nbformat_minor": 2
}
